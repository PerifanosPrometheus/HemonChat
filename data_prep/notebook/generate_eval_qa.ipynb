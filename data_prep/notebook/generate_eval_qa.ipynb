{
 "cells": [
  {
   "cell_type": "markdown",
   "metadata": {},
   "source": [
    "# Generate Evaluation Q&A Pairs"
   ]
  },
  {
   "cell_type": "markdown",
   "metadata": {},
   "source": [
    "This notebook obtains a subset of training Q&A pairs and generate a single Q&A to be used for training evaluation."
   ]
  },
  {
   "cell_type": "markdown",
   "metadata": {},
   "source": [
    "## Import Packages"
   ]
  },
  {
   "cell_type": "code",
   "execution_count": 5,
   "metadata": {},
   "outputs": [],
   "source": [
    "import pandas as pd\n",
    "import pickle\n",
    "import random\n",
    "import anthropic"
   ]
  },
  {
   "cell_type": "markdown",
   "metadata": {},
   "source": [
    "## Define Functions"
   ]
  },
  {
   "cell_type": "code",
   "execution_count": 6,
   "metadata": {},
   "outputs": [],
   "source": [
    "def save_to_pickle(data, file_path):\n",
    "    \"\"\"\n",
    "    Save data to a pickle file.\n",
    "\n",
    "    Parameters:\n",
    "    - data: The data to be saved.\n",
    "    - file_path: The path to the pickle file (e.g., '*.pkl').\n",
    "    \"\"\"\n",
    "    with open(file_path, 'wb') as file:\n",
    "        pickle.dump(data, file)\n",
    "    print(f\"Data successfully saved to {file_path}\")\n",
    "\n",
    "def generate_eval(\n",
    "        qa, \n",
    "        anthropic_client, \n",
    "        eval_generation_prompt,\n",
    "        system_prompt=\"You are an expert AI trainer specialized in generating evaluation datasets based on training data.\",\n",
    "        save_progress=True\n",
    "    ):\n",
    "    \"\"\"\n",
    "    Generate evaluation Q&A from training Q&A pairs.\n",
    "\n",
    "    Parameters:\n",
    "    - qa: str, Q&A pairs for a given concept.\n",
    "    - anthropic_client: object, anthropic client.\n",
    "    - eval_generation_prompt: str, the prompt to guide the agent for evaluation Q&A generation.\n",
    "    - system_prompt: str, the system prompt defining the agent role.\n",
    "    - save_progress: bool, boolean to save progress after every model response.\n",
    "\n",
    "    Returns:\n",
    "    - eval_qa: str, Q&A to be used during model evaluation.\n",
    "    \"\"\"\n",
    "    # Construct the full prompt for the LLM\n",
    "    input_text = f\"{eval_generation_prompt}\\n---\\nTraining Q&A pairs: {qa}\"\n",
    "\n",
    "    try:\n",
    "        response = anthropic_client.messages.create(\n",
    "            model=\"claude-3-haiku-20240307\", #cheapest model. For this task we can probably also use Llama models.\n",
    "            max_tokens=2048,\n",
    "            system=system_prompt,\n",
    "            messages=[\n",
    "                {\"role\": \"user\", \"content\": input_text}\n",
    "            ]\n",
    "        )\n",
    "        eval_qa = response.content[0].text\n",
    "        if save_progress:\n",
    "            save_to_pickle(eval_qa,'../../data/intermediate/eval_qa_intermediate.pkl')\n",
    "\n",
    "    except Exception as e:\n",
    "        print(f\"Error processing: {e}\")\n",
    "        eval_qa = -1\n",
    "    return eval_qa"
   ]
  },
  {
   "cell_type": "markdown",
   "metadata": {},
   "source": [
    "## Load data"
   ]
  },
  {
   "cell_type": "code",
   "execution_count": 7,
   "metadata": {},
   "outputs": [],
   "source": [
    "with open('../../data/intermediate/qa.pkl','rb') as f:\n",
    "    qa = pickle.load(f)\n",
    "\n",
    "# Store qa in a dataframe\n",
    "qa = pd.DataFrame.from_dict(qa, orient='index', columns=['qa'])\n",
    "qa.index.name = 'concept_code'"
   ]
  },
  {
   "cell_type": "markdown",
   "metadata": {},
   "source": [
    "## Generate Evaluation Q&A"
   ]
  },
  {
   "cell_type": "code",
   "execution_count": 8,
   "metadata": {},
   "outputs": [],
   "source": [
    "# Define Anthropic client\n",
    "anthropic_client = anthropic.Anthropic()"
   ]
  },
  {
   "cell_type": "code",
   "execution_count": 9,
   "metadata": {},
   "outputs": [],
   "source": [
    "# Define Q&A generation prompt\n",
    "eval_generation_prompt = '''Task Description: You will be provided Q&A pairs which are part of a training dataset for LLM finetuning. Generate 1 specific question and its corresponding answer that can be used for training evaluation of the Q&A pairs provided.\n",
    "\n",
    "You MUST generate the Q&A pair in the following format:\n",
    "Q1: [Question]\n",
    "A1: [Answer that can be directly verified from the text]\n",
    "\n",
    "Important guidelines:\n",
    "- If there are multiple training question and answers, try to create a evaluation question and answer pair that combines them as much as possible\n",
    "- Keep the question specific and unambiguous\n",
    "- Avoid yes/no questions\n",
    "- Remain faithful to the original content while varying verbal form or structure\n",
    "'''"
   ]
  },
  {
   "cell_type": "code",
   "execution_count": 10,
   "metadata": {},
   "outputs": [],
   "source": [
    "# Define evaluation dataset size\n",
    "n_eval = int(len(qa)*0.05)\n",
    "# Define list of potential indeces\n",
    "all_idx = list(qa.index)"
   ]
  },
  {
   "cell_type": "code",
   "execution_count": 11,
   "metadata": {},
   "outputs": [],
   "source": [
    "# Subset training data\n",
    "eval_idx = []\n",
    "for _ in range(n_eval):\n",
    "    found_valid_idx = False\n",
    "    while not found_valid_idx:\n",
    "        # choose random index\n",
    "        idx = random.choice(all_idx)\n",
    "        # Remove index from all possible indices to choose from\n",
    "        all_idx.remove(idx)\n",
    "        # check if qa text does not contain words such as context or text or information which would make the entry unaccapetable\n",
    "        qa_text = qa.loc[idx,'qa']\n",
    "        if ('context' not in qa_text) and ('text' not in qa_text) and ('information' not in qa_text):\n",
    "            # Append index to the eval list of indices\n",
    "            eval_idx.append(idx)\n",
    "            # Stop iterating\n",
    "            found_valid_idx = True\n",
    "        else:\n",
    "            # Try finding another index\n",
    "            found_valid_idx = False"
   ]
  },
  {
   "cell_type": "code",
   "execution_count": 12,
   "metadata": {},
   "outputs": [],
   "source": [
    "eval_qa = qa[qa.index.isin(eval_idx)]\n",
    "eval_qa = eval_qa.rename({'qa':'training_qa'}, axis=1)"
   ]
  },
  {
   "cell_type": "code",
   "execution_count": null,
   "metadata": {},
   "outputs": [],
   "source": [
    "# Generate evaluation Q&A pairs\n",
    "eval_qa['evaluation_qa'] = eval_qa['training_qa'].apply(lambda x: generate_eval(x,anthropic_client,eval_generation_prompt,save_progress=False))"
   ]
  },
  {
   "cell_type": "code",
   "execution_count": null,
   "metadata": {},
   "outputs": [],
   "source": [
    "eval_qa = eval_qa.drop(['training_qa'],axis=1)"
   ]
  },
  {
   "cell_type": "markdown",
   "metadata": {},
   "source": [
    "## Save Results"
   ]
  },
  {
   "cell_type": "code",
   "execution_count": null,
   "metadata": {},
   "outputs": [],
   "source": [
    "save_to_pickle(eval_qa,'../../data/intermediate/eval_qa.pkl')"
   ]
  }
 ],
 "metadata": {
  "kernelspec": {
   "display_name": ".venv",
   "language": "python",
   "name": "python3"
  },
  "language_info": {
   "codemirror_mode": {
    "name": "ipython",
    "version": 3
   },
   "file_extension": ".py",
   "mimetype": "text/x-python",
   "name": "python",
   "nbconvert_exporter": "python",
   "pygments_lexer": "ipython3",
   "version": "3.12.6"
  }
 },
 "nbformat": 4,
 "nbformat_minor": 2
}
