{
 "cells": [
  {
   "cell_type": "markdown",
   "metadata": {},
   "source": [
    "# Generate Q&A pairs from knowledge graph encodings"
   ]
  },
  {
   "cell_type": "markdown",
   "metadata": {},
   "source": [
    "This notebook showcases how to load knowledge graph embeddings and generate Q&A pairs for LLM finetuning.\n",
    "\n",
    "Q&A pairs generated should be carefully evaluated for accuracy."
   ]
  },
  {
   "cell_type": "markdown",
   "metadata": {},
   "source": [
    "## Import Packages"
   ]
  },
  {
   "cell_type": "code",
   "execution_count": 1,
   "metadata": {},
   "outputs": [],
   "source": [
    "import pickle\n",
    "import anthropic"
   ]
  },
  {
   "cell_type": "markdown",
   "metadata": {},
   "source": [
    "## Define Functions"
   ]
  },
  {
   "cell_type": "code",
   "execution_count": 3,
   "metadata": {},
   "outputs": [],
   "source": [
    "def save_to_pickle(data, file_path):\n",
    "    \"\"\"\n",
    "    Save data to a pickle file.\n",
    "\n",
    "    Parameters:\n",
    "    - data: The data to be saved.\n",
    "    - file_path: The path to the pickle file (e.g., '*.pkl').\n",
    "    \"\"\"\n",
    "    with open(file_path, 'wb') as file:\n",
    "        pickle.dump(data, file)\n",
    "    print(f\"Data successfully saved to {file_path}\")\n",
    "\n",
    "def generate_qa(\n",
    "        summarized_texts, \n",
    "        anthropic_client, \n",
    "        qa_generation_prompt,\n",
    "        system_prompt=\"You are a medical oncology journal editor.\",\n",
    "        save_progress=True\n",
    "    ):\n",
    "    \"\"\"\n",
    "    Generate Q&A from summarized GLAM encodings.\n",
    "\n",
    "    Parameters:\n",
    "    - summarized_texts: dict, mapping each node to its GLAM text encoding summarized.\n",
    "    - anthropic_client: object, anthropic client.\n",
    "    - qa_generation_prompt: str, the prompt to guide the agent for Q&A generation.\n",
    "    - system_prompt: str, the system prompt defining the agent role.\n",
    "    - save_progress: bool, boolean to save progress after every model response.\n",
    "\n",
    "    Returns:\n",
    "    - qa: dict, mapping each node to its Q&A generated.\n",
    "    \"\"\"\n",
    "    qa = {}\n",
    "\n",
    "    for node, text in summarized_texts.items():\n",
    "        print(f\"Processing node: {node}...\")\n",
    "        # Construct the full prompt for the LLM\n",
    "        input_text = f\"{qa_generation_prompt}\\n---\\nContext: {text}\"\n",
    "\n",
    "        try:\n",
    "            response = anthropic_client.messages.create(\n",
    "                model=\"claude-3-haiku-20240307\", #cheapest model. For this task we can probably also use Llama models.\n",
    "                max_tokens=2048,\n",
    "                system=system_prompt,\n",
    "                messages=[\n",
    "                    {\"role\": \"user\", \"content\": input_text}\n",
    "                ]\n",
    "            )\n",
    "            qa[node] = response.content[0].text\n",
    "\n",
    "            if save_progress:\n",
    "                save_to_pickle(qa,'../../data/intermediate/qa_intermediate.pkl')\n",
    "\n",
    "        except Exception as e:\n",
    "            print(f\"Error processing node {node}: {e}\")\n",
    "            qa[node] = None  # Handle errors gracefully\n",
    "\n",
    "    return qa"
   ]
  },
  {
   "cell_type": "markdown",
   "metadata": {},
   "source": [
    "## Load data"
   ]
  },
  {
   "cell_type": "code",
   "execution_count": 2,
   "metadata": {},
   "outputs": [],
   "source": [
    "with open('../../data/intermediate/summarized_texts.pkl','rb') as f:\n",
    "    summarized_texts = pickle.load(f)"
   ]
  },
  {
   "cell_type": "markdown",
   "metadata": {},
   "source": [
    "## Generate Q&A"
   ]
  },
  {
   "cell_type": "code",
   "execution_count": 6,
   "metadata": {},
   "outputs": [],
   "source": [
    "# Define Anthropic client\n",
    "anthropic_client = anthropic.Anthropic()"
   ]
  },
  {
   "cell_type": "code",
   "execution_count": 5,
   "metadata": {},
   "outputs": [],
   "source": [
    "# Define Q&A generation prompt\n",
    "qa_generation_prompt = '''Task Description: The provided context contains information about oncology related drugs, procedures, etc. Your task is to thoroughly analyze the text and generate comprehensive Q&A pairs that capture ALL the key information provided. Consider the following aspects, but create questions for ANY important information present in the text:\n",
    "\n",
    "- Drug classification and characteristics\n",
    "- Mechanism of action and targets\n",
    "- Regulatory approvals and timelines\n",
    "- Clinical indications and approved uses\n",
    "- Administration details\n",
    "- Historical significance and development\n",
    "\n",
    "Format Requirements:\n",
    "Q1: [Comprehensive question that allows for detailed answer]\n",
    "A1: [Complete answer synthesizing all relevant information from the text]\n",
    "\n",
    "Important guidelines:\n",
    "- Extract ALL relevant information from the text - don't miss any key details\n",
    "- Create questions that allow for comprehensive answers rather than single-fact responses\n",
    "- Combine related information into coherent Q&A pairs\n",
    "- Answers should synthesize information while staying true to the source text\n",
    "- If multiple related pieces of information exist, combine them into one Q&A pair'''"
   ]
  },
  {
   "cell_type": "code",
   "execution_count": null,
   "metadata": {},
   "outputs": [],
   "source": [
    "# Generate Q&A\n",
    "qa = generate_qa(summarized_texts,anthropic_client,qa_generation_prompt)"
   ]
  },
  {
   "cell_type": "markdown",
   "metadata": {},
   "source": [
    "## Save Results"
   ]
  },
  {
   "cell_type": "code",
   "execution_count": null,
   "metadata": {},
   "outputs": [],
   "source": [
    "save_to_pickle(qa,'../../data/intermediate/qa.pkl')"
   ]
  }
 ],
 "metadata": {
  "kernelspec": {
   "display_name": ".venv",
   "language": "python",
   "name": "python3"
  },
  "language_info": {
   "codemirror_mode": {
    "name": "ipython",
    "version": 3
   },
   "file_extension": ".py",
   "mimetype": "text/x-python",
   "name": "python",
   "nbconvert_exporter": "python",
   "pygments_lexer": "ipython3",
   "version": "3.12.6"
  }
 },
 "nbformat": 4,
 "nbformat_minor": 2
}
